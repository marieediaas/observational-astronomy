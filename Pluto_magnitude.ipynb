{
 "cells": [
  {
   "cell_type": "code",
   "execution_count": 22,
   "id": "41db12ac-9b61-490d-be2d-9efc3ef4a736",
   "metadata": {},
   "outputs": [],
   "source": [
    "from astroquery.vizier import Vizier\n",
    "from astropy.coordinates import Angle\n",
    "import astropy.units as u\n",
    "import astropy.coordinates as coord\n",
    "import math\n",
    "import statistics\n",
    "import numpy as np"
   ]
  },
  {
   "cell_type": "code",
   "execution_count": 28,
   "id": "df92813c-1d42-44b1-a7a4-8f71e746e11f",
   "metadata": {},
   "outputs": [],
   "source": [
    "p  = ['18 21 04.3786 -18 08 07.324', '18 21 18.6722 -18 12 08.166',\n",
    "      '18 21 17.8106 -18 10 29.221','18 21 24.6363 -18 12 15.806',\n",
    "      '18 21 26.6551 -18 10 39.279']\n",
    "f  = [510148, 50175, 99652, 186281, 691005]\n",
    "fp =  303893"
   ]
  },
  {
   "cell_type": "code",
   "execution_count": 56,
   "id": "bb419f62-fc4e-4585-99cd-ddc8fbf0104f",
   "metadata": {},
   "outputs": [
    {
     "name": "stdout",
     "output_type": "stream",
     "text": [
      "14.032058728522994\n",
      "27.73886046970355\n",
      "0.08475312645054175\n"
     ]
    }
   ],
   "source": [
    "k, sigma_k, mag_pluto = magnitude_comp(5, p, f, fp)\n",
    "\n",
    "print(mag_pluto)\n",
    "print(k)\n",
    "print(sigma_k)"
   ]
  },
  {
   "cell_type": "code",
   "execution_count": null,
   "id": "ad8c39ca-6089-4610-83df-a0b92e52d233",
   "metadata": {},
   "outputs": [],
   "source": []
  }
 ],
 "metadata": {
  "kernelspec": {
   "display_name": "Python 3 (ipykernel)",
   "language": "python",
   "name": "python3"
  },
  "language_info": {
   "codemirror_mode": {
    "name": "ipython",
    "version": 3
   },
   "file_extension": ".py",
   "mimetype": "text/x-python",
   "name": "python",
   "nbconvert_exporter": "python",
   "pygments_lexer": "ipython3",
   "version": "3.8.8"
  }
 },
 "nbformat": 4,
 "nbformat_minor": 5
}
