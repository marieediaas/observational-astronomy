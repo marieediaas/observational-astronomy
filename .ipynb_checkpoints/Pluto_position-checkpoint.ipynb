{
 "cells": [
  {
   "cell_type": "markdown",
   "id": "00aacc6e-4729-44d9-afcc-2cbf189ae504",
   "metadata": {},
   "source": [
    "Activity 2 by Professor Júlio. Here we correct the position (ra,dec) of the selected sources to obtain the position of Pluto. We will use the least squares method to obtain the position of Pluto from the position of the stars we have selected."
   ]
  },
  {
   "cell_type": "markdown",
   "id": "9b9b5dd9-ad17-4567-8c40-e389da21dc2c",
   "metadata": {
    "tags": []
   },
   "source": [
    "Part 2 of the activity.\n",
    "\n",
    "We're supposed to compute the equatorial coordinates of Pluto using the coordinates of Pluto in the CCD image and the positions in RA and DEC of the stars selected in the previous question resolved.\n",
    "\n",
    "We can build a system of equations to find constants a,b,c,d,e and f to find $\\alpha$ and $\\delta$, given by:\n",
    "\n",
    "\\begin{equation}\n",
    "    aX + bY + c = \\alpha \\; ,\n",
    "\\end{equation}\n",
    "\n",
    "for right ascension. This can be written in the form of a matrix Ax = B, or:\n",
    "\n",
    "\\begin{equation}\n",
    "\\begin{bmatrix}\n",
    "x_1 & y_1 & 1 \\\\\n",
    "x_2 & y_2 & 1 \\\\\n",
    "x_3 & y_3 & 1 \\\\\n",
    "x_4 & y_4 & 1 \\\\\n",
    "x_5 & y_5 & 1 \\\\\n",
    "\\end{bmatrix}\n",
    "\\begin{bmatrix}\n",
    "a \\\\\n",
    "b \\\\\n",
    "c \\\\\n",
    "\\end{bmatrix} = \\begin{bmatrix}\n",
    "\\alpha_1 \\\\\n",
    "\\alpha_2 \\\\\n",
    "\\alpha_3 \\\\\n",
    "\\alpha_4 \\\\\n",
    "\\alpha_5 \\\\\n",
    "\\end{bmatrix} \\; .\n",
    "\\end{equation}\n",
    "\n",
    "The same can be done for declination with:\n",
    "\n",
    "\\begin{equation}\n",
    "    dX + eY + f = \\delta \\; ,\n",
    "\\end{equation}\n",
    "\n",
    "and: \n",
    "\n",
    "\\begin{equation}\n",
    "\\begin{bmatrix}\n",
    "x_1 & y_1 & 1 \\\\\n",
    "x_2 & y_2 & 1 \\\\\n",
    "x_3 & y_3 & 1 \\\\\n",
    "x_4 & y_4 & 1 \\\\\n",
    "x_5 & y_5 & 1 \\\\\n",
    "\\end{bmatrix}\n",
    "\\begin{bmatrix}\n",
    "d \\\\\n",
    "e \\\\\n",
    "f \\\\\n",
    "\\end{bmatrix} = \\begin{bmatrix}\n",
    "\\delta_1 \\\\\n",
    "\\delta_2 \\\\\n",
    "\\delta_3 \\\\\n",
    "\\delta_4 \\\\\n",
    "\\delta_5\n",
    "\\end{bmatrix} \\; .\n",
    "\\end{equation}\n",
    "\n",
    "We'll use the least square method to obtain the coefficients."
   ]
  },
  {
   "cell_type": "code",
   "execution_count": 1,
   "id": "95d67dfc-bfeb-4e8f-bcff-7de32b7ef074",
   "metadata": {},
   "outputs": [],
   "source": [
    "from astroquery.vizier import Vizier\n",
    "from astropy.coordinates import Angle\n",
    "import astropy.units as u\n",
    "import astropy.coordinates as coord\n",
    "import math\n",
    "import statistics\n",
    "import numpy as np\n",
    "from sklearn.linear_model import LinearRegression\n",
    "%run -i /home/usuario/Documents/2semestre/AstronomiaObservacional/ProfJulio/observational-astronomy/obs_tools.py"
   ]
  },
  {
   "cell_type": "code",
   "execution_count": 2,
   "id": "9ea4c138-7631-4f1e-92b0-5f972b9d7479",
   "metadata": {},
   "outputs": [],
   "source": [
    "#positions of the reference stars\n",
    "p  = ['18 21 04.3786 -18 08 07.324', '18 21 18.6722 -18 12 08.166',\n",
    "      '18 21 17.8106 -18 10 29.221','18 21 24.6363 -18 12 15.806',\n",
    "      '18 21 26.6551 -18 10 39.279']"
   ]
  },
  {
   "cell_type": "markdown",
   "id": "fba7ee03-1049-470c-8f78-88e90ba2c66a",
   "metadata": {},
   "source": [
    "### Astrometric Correction"
   ]
  },
  {
   "cell_type": "code",
   "execution_count": null,
   "id": "fe6667d3-e715-4b7f-8945-c16704870578",
   "metadata": {},
   "outputs": [],
   "source": [
    "#astrometric correction of the positions of the reference stars\n",
    "year_sci = 2010           # header sci (start of frame exposure) \n",
    "month_sci = 4             # header sci (start of frame exposure) \n",
    "\n",
    "ra, de = astrometric_correction(5, p, year_sci, month_sci)"
   ]
  },
  {
   "cell_type": "markdown",
   "id": "3674f042-725e-401e-9c0b-b3c901f3fe7e",
   "metadata": {},
   "source": [
    "### Least squares"
   ]
  },
  {
   "cell_type": "code",
   "execution_count": 5,
   "id": "8f6f88bb-3e00-4ed6-b575-c5d98cdf9280",
   "metadata": {},
   "outputs": [],
   "source": [
    "#coordinates (x,y) of the sources in the ccd\n",
    "data_ccd = [[1558.66, 1799.84, 1],[841.815, 1183.25, 1], [1138.26, 1223.27, 1],[819.582, 928.313, 1], [1104.17, 845.31, 1]]"
   ]
  },
  {
   "cell_type": "markdown",
   "id": "2acec069-7fa0-41e7-bfa4-d1372ba27fd8",
   "metadata": {},
   "source": [
    " - right ascension"
   ]
  },
  {
   "cell_type": "code",
   "execution_count": 22,
   "id": "d6aef604-8bf6-4132-ad50-f0dce7fbd34e",
   "metadata": {},
   "outputs": [],
   "source": [
    "# X e Y são as variáveis independentes\n",
    "X = np.array([[1558.66, 1799.84],[841.815, 1183.25], [1138.26, 1223.27],[819.582, 928.313], [1104.17, 845.31]])\n",
    "# alpha é a variável dependente\n",
    "alpha = np.array(ra)\n",
    "# delta é a variável dependente\n",
    "delta = np.array(de)\n",
    "\n",
    "# Criando o modelo de regressão linear\n",
    "model = LinearRegression()\n",
    "\n",
    "# Ajustando o modelo aos dados\n",
    "model.fit(X, alpha)\n",
    "\n",
    "# Coeficientes a1 e b1\n",
    "a1, b1 = model.coef_\n",
    "\n",
    "# Intercepto c1\n",
    "c1 = model.intercept_"
   ]
  },
  {
   "cell_type": "code",
   "execution_count": 23,
   "id": "7e122d90-b888-4b7e-831c-b89829cb5135",
   "metadata": {},
   "outputs": [],
   "source": [
    "#equation system\n",
    "def func(x, y, a, b, c): \n",
    "    x_grid, y_grid = np.meshgrid(x, y)\n",
    "    \n",
    "    return a*x_grid + b*y_grid + c"
   ]
  },
  {
   "cell_type": "code",
   "execution_count": 24,
   "id": "4230bc85-cc7b-4470-aea5-8ebbea18f472",
   "metadata": {},
   "outputs": [],
   "source": [
    "## ccd coordinates of the reference stars\n",
    "xx = np.array([1558.66, 841.815, 1138.26, 819.582, 1104.17])\n",
    "yy = np.array([1799.84, 1183.25, 1223.27, 928.313, 845.31])"
   ]
  },
  {
   "cell_type": "code",
   "execution_count": 25,
   "id": "9e89508b-e1a9-4f65-9aea-e2532e7d524f",
   "metadata": {},
   "outputs": [],
   "source": [
    "ra_leastsquares = func(xx, yy, a1, b1, c1)"
   ]
  },
  {
   "cell_type": "code",
   "execution_count": 47,
   "id": "48a72070-f201-45cb-92b4-ab8003235dec",
   "metadata": {},
   "outputs": [
    {
     "data": {
      "text/plain": [
       "<matplotlib.legend.Legend at 0x78cb3afa50d0>"
      ]
     },
     "execution_count": 47,
     "metadata": {},
     "output_type": "execute_result"
    },
    {
     "data": {
      "image/png": "[encoded data removed]",
      "text/plain": [
       "<Figure size 640x480 with 1 Axes>"
      ]
     },
     "metadata": {},
     "output_type": "display_data"
    }
   ],
   "source": [
    "import matplotlib.pyplot as plt\n",
    "\n",
    "x_grid, y_grid = np.meshgrid(xx, yy)\n",
    "\n",
    "# Criando o gráfico 3D\n",
    "fig = plt.figure(tight_layout=True)\n",
    "ax = fig.add_subplot(111, projection='3d')\n",
    "\n",
    "ax.scatter(X[:, 0], X[:, 1], alpha, color='red', label='Real data')\n",
    "# Plotando o plano ajustado\n",
    "ax.plot_surface(x_grid, y_grid, ra_leastsquares , alpha=0.5)\n",
    "ax.view_init(10, 180)\n",
    "ax.set_xlabel('X')\n",
    "ax.set_ylabel('Y')\n",
    "ax.set_zlabel(r'$\\alpha$ (dec)')\n",
    "plt.legend()"
   ]
  },
  {
   "cell_type": "code",
   "execution_count": 27,
   "id": "a079ff3f-36e9-4940-ada7-35989e406265",
   "metadata": {},
   "outputs": [
    {
     "name": "stdout",
     "output_type": "stream",
     "text": [
      "5.284830565870699e-07 -9.762849045091403e-05 275.44294535106917\n"
     ]
    }
   ],
   "source": [
    "#coefficients ra\n",
    "print(a1, b1, c1)"
   ]
  },
  {
   "cell_type": "markdown",
   "id": "b50878cd-7e10-40df-b81c-4fc3977981d6",
   "metadata": {},
   "source": [
    "- declination"
   ]
  },
  {
   "cell_type": "code",
   "execution_count": 28,
   "id": "42e8b351-e91e-48b5-a298-75c7171afe31",
   "metadata": {},
   "outputs": [],
   "source": [
    "# Criando o modelo de regressão linear\n",
    "model = LinearRegression()\n",
    "\n",
    "# Ajustando o modelo aos dados\n",
    "model.fit(X, de)\n",
    "\n",
    "# Coeficientes a e b\n",
    "a2, b2 = model.coef_\n",
    "\n",
    "# Intercepto c\n",
    "c2 = model.intercept_"
   ]
  },
  {
   "cell_type": "code",
   "execution_count": 29,
   "id": "5f592aee-b849-4d95-820f-de0d4aacafac",
   "metadata": {},
   "outputs": [
    {
     "name": "stdout",
     "output_type": "stream",
     "text": [
      "9.298697484706982e-05 2.864499910077418e-07 -18.280860262373604\n"
     ]
    }
   ],
   "source": [
    "#coefficients de\n",
    "print(a2, b2, c2)"
   ]
  },
  {
   "cell_type": "code",
   "execution_count": 30,
   "id": "addfbf28-a0ff-47c5-92a5-5e30c07f270f",
   "metadata": {},
   "outputs": [],
   "source": [
    "de_leastsquares = func(xx, yy, a2, b2, c2)"
   ]
  },
  {
   "cell_type": "code",
   "execution_count": 48,
   "id": "5f834839-46a1-4e80-ab21-94b7fe6d5085",
   "metadata": {},
   "outputs": [
    {
     "data": {
      "text/plain": [
       "<matplotlib.legend.Legend at 0x78cb3a6b2400>"
      ]
     },
     "execution_count": 48,
     "metadata": {},
     "output_type": "execute_result"
    },
    {
     "data": {
      "image/png": "[encoded data removed]",
      "text/plain": [
       "<Figure size 640x480 with 1 Axes>"
      ]
     },
     "metadata": {},
     "output_type": "display_data"
    }
   ],
   "source": [
    "import matplotlib.pyplot as plt\n",
    "\n",
    "x_grid, y_grid = np.meshgrid(xx, yy)\n",
    "\n",
    "# Criando o gráfico 3D\n",
    "fig = plt.figure(tight_layout=True)\n",
    "ax = fig.add_subplot(111, projection='3d')\n",
    "\n",
    "ax.scatter(X[:, 0], X[:, 1], delta, color='red', label='Real data')\n",
    "# Plotando o plano ajustado\n",
    "ax.plot_surface(x_grid, y_grid, de_leastsquares , alpha=0.5)\n",
    "ax.view_init(5,-90)\n",
    "ax.set_xlabel('X')\n",
    "ax.set_ylabel('Y')\n",
    "ax.set_zlabel('delta')\n",
    "plt.legend()"
   ]
  },
  {
   "cell_type": "markdown",
   "id": "74736dc8-56c8-4c13-a6cc-fc03998bfef6",
   "metadata": {},
   "source": [
    "- uncertainties in the positions"
   ]
  },
  {
   "cell_type": "code",
   "execution_count": 38,
   "id": "2fc61495-9f67-4bfb-9de1-07eb28bc5cfa",
   "metadata": {},
   "outputs": [],
   "source": [
    "def func_scal(x, y, a, b, c):    \n",
    "    return a*x + b*y + c"
   ]
  },
  {
   "cell_type": "code",
   "execution_count": 40,
   "id": "41092d77-9662-4e2c-bcfb-0ae7a34389cb",
   "metadata": {},
   "outputs": [
    {
     "name": "stdout",
     "output_type": "stream",
     "text": [
      "[275.26805341 275.32787132 275.3241209  275.35274869 275.36100255]\n",
      "[-18.13540962 -18.20224349 -18.1746665  -18.2043839  -18.1779447 ]\n"
     ]
    }
   ],
   "source": [
    "#ra and dec of the reference stars with coefficients\n",
    "\n",
    "ra_stars_ajust = np.zeros(5)\n",
    "for i in range(5):\n",
    "    x_, y_ = data_ccd[i][0], data_ccd[i][1]\n",
    "    ra_stars_ajust[i] = func_scal(x_, y_, a1, b1, c1)\n",
    "\n",
    "print(ra_stars_ajust)\n",
    "\n",
    "de_stars_ajust = np.zeros(5)\n",
    "for i in range(5):\n",
    "    x_, y_ = data_ccd[i][0], data_ccd[i][1]\n",
    "    de_stars_ajust[i] = func_scal(x_, y_, a2, b2, c2)\n",
    "\n",
    "print(de_stars_ajust)"
   ]
  },
  {
   "cell_type": "code",
   "execution_count": 45,
   "id": "52ccd3fa-1a83-47fe-94e1-a1e4c5b09155",
   "metadata": {},
   "outputs": [
    {
     "name": "stdout",
     "output_type": "stream",
     "text": [
      "Incerteza em ra: 0.0001 \n",
      "Incerteza em de: 0.0609 \n"
     ]
    }
   ],
   "source": [
    "#computing uncertainties\n",
    "delta_ra = np.zeros(5)\n",
    "delta_de = np.zeros(5)\n",
    "\n",
    "for i in range(5): \n",
    "    delta_ra[i] = ra[i] - ra_stars_ajust[i]\n",
    "    delta_de[i] = ra[i] - de_stars_ajust[i]\n",
    "\n",
    "ra_std = statistics.stdev(delta_ra)\n",
    "de_std = statistics.stdev(delta_de)\n",
    "print(f\"Incerteza em ra: {ra_std:.4f} \")\n",
    "print(f\"Incerteza em de: {de_std:.4f} \")"
   ]
  },
  {
   "cell_type": "markdown",
   "id": "ed8e4614-1fdb-4f2a-9e90-bca26c285df3",
   "metadata": {},
   "source": [
    "### Coordenadas equatoriais de Plutão"
   ]
  },
  {
   "cell_type": "markdown",
   "id": "4ea4997c-62f4-4f39-9aab-a96fbd93badd",
   "metadata": {},
   "source": [
    "Na Atividade 1 encontramos as coordenadas de Plutão na imagem CCD. $x_{pluto} = 954.706$, $y_{pluto} = 1183.44$."
   ]
  },
  {
   "cell_type": "code",
   "execution_count": 25,
   "id": "3767113f-f03d-4cdd-b486-6212fa49c07e",
   "metadata": {},
   "outputs": [],
   "source": [
    "x_pluto = 954.706\n",
    "y_pluto = 1183.44"
   ]
  },
  {
   "cell_type": "code",
   "execution_count": 32,
   "id": "c136835c-4c22-4f91-8469-2649acb7d9cd",
   "metadata": {},
   "outputs": [
    {
     "name": "stdout",
     "output_type": "stream",
     "text": [
      "Ascenção Reta de Plutão: 275.32791244 graus.\n",
      "Declinação de Plutão: -18.19174604 graus.\n"
     ]
    }
   ],
   "source": [
    "ra_pluto = func(x_pluto, y_pluto, a1, b1, c1)\n",
    "de_pluto = func(x_pluto, y_pluto, a2, b2, c2)\n",
    "\n",
    "print(f'Ascenção Reta de Plutão: {ra_pluto[0,0]:.8f} graus.')\n",
    "print(f'Declinação de Plutão: {de_pluto[0,0]:.8f} graus.')"
   ]
  },
  {
   "cell_type": "code",
   "execution_count": 38,
   "id": "2fee6b08-56f3-4a43-8f24-5a9e5d4ee9f5",
   "metadata": {},
   "outputs": [
    {
     "name": "stdout",
     "output_type": "stream",
     "text": [
      "Ascensão Reta de Plutão em h:m:s: 18:21:18.69898471\n",
      "Declinação de Plutão em d:m:s: -18:11:30.28575548\n"
     ]
    }
   ],
   "source": [
    "ra_pluto_hms = Angle(ra_pluto, unit=u.deg).to_string(unit=u.hour, sep=':', precision=8)\n",
    "de_pluto_dms = Angle(de_pluto, unit=u.deg).to_string(unit=u.deg, sep=':', precision=8, alwayssign=True)\n",
    "print(f\"Ascensão Reta de Plutão em h:m:s: {ra_pluto_hms[0,0]}\")\n",
    "print(f\"Declinação de Plutão em d:m:s: {de_pluto_dms[0,0]}\")"
   ]
  },
  {
   "cell_type": "markdown",
   "id": "0a6dee1e-6123-4d87-a72d-f24eb13db0db",
   "metadata": {},
   "source": [
    "As coordenadas no JPL de Plutão para a data que consta no header da imagem CCD são:"
   ]
  },
  {
   "cell_type": "code",
   "execution_count": 39,
   "id": "2b678894-7889-4b5e-92a4-e3c17d4dcd02",
   "metadata": {},
   "outputs": [
    {
     "name": "stdout",
     "output_type": "stream",
     "text": [
      "Ascensão Reta de Plutão em h:m:s obtida no JPL: 18:21:18.70\n",
      "Declinação de Plutão em d:m:s obtida no JPL: -18:11:30.2\n"
     ]
    }
   ],
   "source": [
    "ra_pluto_jpl = '18:21:18.70'\n",
    "de_pluto_jpl = '-18:11:30.2'\n",
    "print(f\"Ascensão Reta de Plutão em h:m:s obtida no JPL: {ra_pluto_jpl}\")\n",
    "print(f\"Declinação de Plutão em d:m:s obtida no JPL: {de_pluto_jpl}\")"
   ]
  },
  {
   "cell_type": "markdown",
   "id": "71594e4b-fb43-493e-a504-2e11658f4508",
   "metadata": {},
   "source": [
    "Vemos que há boa concordância entre nossos cálculos e os dados do JPL."
   ]
  },
  {
   "cell_type": "code",
   "execution_count": null,
   "id": "90510a2c-9a57-4673-8b85-685e6f1ea1c2",
   "metadata": {},
   "outputs": [],
   "source": []
  }
 ],
 "metadata": {
  "kernelspec": {
   "display_name": "Python 3 (ipykernel)",
   "language": "python",
   "name": "python3"
  },
  "language_info": {
   "codemirror_mode": {
    "name": "ipython",
    "version": 3
   },
   "file_extension": ".py",
   "mimetype": "text/x-python",
   "name": "python",
   "nbconvert_exporter": "python",
   "pygments_lexer": "ipython3",
   "version": "3.9.18"
  }
 },
 "nbformat": 4,
 "nbformat_minor": 5
}
