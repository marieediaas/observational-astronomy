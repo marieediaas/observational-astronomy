{
 "cells": [
  {
   "cell_type": "markdown",
   "id": "f8d992e9-9c04-4988-b514-3f1c6fb6b483",
   "metadata": {},
   "source": [
    "In this notebook we compute the SNR of a bright and a faint star to obtain the magnitude using the aperture photometry."
   ]
  },
  {
   "cell_type": "code",
   "execution_count": 42,
   "id": "eba01ffb-c820-402a-999f-7d39acd93d35",
   "metadata": {},
   "outputs": [],
   "source": [
    "from astroquery.vizier import Vizier\n",
    "from astropy.coordinates import Angle\n",
    "import astropy.units as u\n",
    "import astropy.coordinates as coord\n",
    "import math\n",
    "import statistics\n",
    "import numpy as np\n",
    "import matplotlib.pyplot as plt\n",
    "from sklearn.linear_model import LinearRegression\n",
    "%run -i /home/usuario/Documents/2semestre/AstronomiaObservacional/ProfJulio/observational-astronomy/obs_tools.py"
   ]
  },
  {
   "cell_type": "code",
   "execution_count": 9,
   "id": "86ef3f0d-d650-4dbe-91a7-6c05225c2788",
   "metadata": {},
   "outputs": [],
   "source": [
    "weak_star = np.array([[1.0, 16.65, 2186, 519],[2.0, 15.09, 9171, 518.4],[3.0, 14.82, 11818, 518.7], [4.0, 14.69, 13266, 517], [5.0, 14.64, 13950, 517], [6.0, 14.61, 14287, 516.4]])"
   ]
  },
  {
   "cell_type": "code",
   "execution_count": 14,
   "id": "229396e2-145a-4cdc-86f9-e5e7230fa31e",
   "metadata": {},
   "outputs": [
    {
     "data": {
      "text/plain": [
       "2186.0"
      ]
     },
     "execution_count": 14,
     "metadata": {},
     "output_type": "execute_result"
    }
   ],
   "source": [
    "weak_star[0,2]"
   ]
  },
  {
   "cell_type": "code",
   "execution_count": 83,
   "id": "3dbe2548-bae2-49ae-8fe5-1cb682fc1603",
   "metadata": {},
   "outputs": [],
   "source": [
    "bright_star = np.array([[1.0, 12.52, 98131, 613.4],[2.0, 11.00, 398106, 583.1],[3.0, 10.66, 544642, 566],[4.0, 10.53, 614125, 555.7], [5.0, 10.47, 648260, 547.7], [6.0, 10.44, 666296, 541.2],[7.0, 10.42,678619,537.6], [8.0, 10.41, 686064, 534.2], [9.0, 10.40, 691203, 531.5],[10.0, 10.40, 694792, 530.5]])\n",
    "bright_star_magtotal = np.array([8.96, 10.40, 691005, 531.8])"
   ]
  },
  {
   "cell_type": "code",
   "execution_count": 16,
   "id": "4d6bea90-2075-4c25-ae09-91664d6c36ae",
   "metadata": {},
   "outputs": [],
   "source": [
    "gain = 1.8 "
   ]
  },
  {
   "cell_type": "code",
   "execution_count": 49,
   "id": "17dc3550-bf13-4175-b0c4-3da9d8ed6814",
   "metadata": {},
   "outputs": [],
   "source": [
    "rad1 = 1.0\n",
    "rad2 = 2.0\n",
    "rad3 = 3.0\n",
    "rad4 = 4.0\n",
    "rad5 = 5.0\n",
    "rad6 = 6.0\n",
    "rad7 = 7.0\n",
    "rad8 = 8.0\n",
    "rad9 = 9.0\n",
    "rad10 = 10.0"
   ]
  },
  {
   "cell_type": "code",
   "execution_count": 32,
   "id": "22920fef-cb81-481a-b381-7755a5ab059b",
   "metadata": {},
   "outputs": [
    {
     "data": {
      "text/plain": [
       "array([47.47385948, 98.24377832, 97.42923515, 89.83351868, 80.12957542,\n",
       "       71.09492109])"
      ]
     },
     "execution_count": 32,
     "metadata": {},
     "output_type": "execute_result"
    }
   ],
   "source": [
    "#weak star SNR by aperture radius\n",
    "ws_r1 = SNR(gain, rad1, weak_star[0,2], weak_star[0,3])\n",
    "ws_r2 = SNR(gain, rad2, weak_star[1,2], weak_star[1,3])\n",
    "ws_r3 = SNR(gain, rad3, weak_star[2,2], weak_star[2,3])\n",
    "ws_r4 = SNR(gain, rad4, weak_star[3,2], weak_star[3,3])\n",
    "ws_r5 = SNR(gain, rad5, weak_star[4,2], weak_star[4,3])\n",
    "ws_r6 = SNR(gain, rad6, weak_star[5,2], weak_star[5,3])\n",
    "\n",
    "weak_star_SNR = np.array([ws_r1, ws_r2, ws_r3, ws_r4, ws_r5,ws_r6])"
   ]
  },
  {
   "cell_type": "code",
   "execution_count": 37,
   "id": "244906be-4e6a-4364-a5f2-21f9d89206e2",
   "metadata": {},
   "outputs": [],
   "source": [
    "#bright star SNR by aperture radius\n",
    "bs_r1 = SNR(gain, rad1, bright_star[0,2], bright_star[0,3])\n",
    "bs_r2 = SNR(gain, rad2, bright_star[1,2], bright_star[1,3])\n",
    "bs_r3 = SNR(gain, rad3, bright_star[2,2], bright_star[2,3])\n",
    "bs_r4 = SNR(gain, rad4, bright_star[3,2], bright_star[3,3])\n",
    "bs_r5 = SNR(gain, rad5, bright_star[4,2], bright_star[4,3])\n",
    "bs_r6 = SNR(gain, rad6, bright_star[5,2], bright_star[5,3])\n",
    "bs_r7 = SNR(gain, rad7, bright_star[6,2], bright_star[6,3])\n",
    "bs_r8 = SNR(gain, rad8, bright_star[7,2], bright_star[7,3])\n",
    "bs_r9 = SNR(gain, rad9, bright_star[8,2], bright_star[8,3])\n",
    "bs_r10 = SNR(gain, rad10, bright_star[9,2], bright_star[9,3])\n",
    "\n",
    "bright_star_SNR = np.array([bs_r1, bs_r2, bs_r3, bs_r4, bs_r5,bs_r6, bs_r7,bs_r8, bs_r9, bs_r10])"
   ]
  },
  {
   "cell_type": "code",
   "execution_count": 38,
   "id": "4e144e9a-0cd9-4165-a4b7-ea82a01be89e",
   "metadata": {},
   "outputs": [
    {
     "data": {
      "text/plain": [
       "array([ 416.21377864,  838.83238054,  975.89546316, 1028.26737888,\n",
       "       1046.06737399, 1048.05888206, 1043.4283929 , 1033.32105071,\n",
       "       1020.07643319, 1004.32701397])"
      ]
     },
     "execution_count": 38,
     "metadata": {},
     "output_type": "execute_result"
    }
   ],
   "source": [
    "bright_star_SNR"
   ]
  },
  {
   "cell_type": "code",
   "execution_count": 99,
   "id": "5b8e5823-ed7d-4506-824c-c3b4d5f1d462",
   "metadata": {},
   "outputs": [
    {
     "data": {
      "text/plain": [
       "<matplotlib.legend.Legend at 0x794d027633a0>"
      ]
     },
     "execution_count": 99,
     "metadata": {},
     "output_type": "execute_result"
    },
    {
     "data": {
      "image/png": "[encoded data removed]",
      "text/plain": [
       "<Figure size 640x480 with 1 Axes>"
      ]
     },
     "metadata": {},
     "output_type": "display_data"
    }
   ],
   "source": [
    "fig, ax = plt.subplots()\n",
    "rad = np.arange(1, 11)\n",
    "ax.scatter(rad, bright_star_SNR,label='Estrela brilhante')\n",
    "ax.scatter(rad[:6], weak_star_SNR,label='Estrela fraca')\n",
    "ax.set_xlabel(\"Raio de abertura\",fontsize=16)\n",
    "ax.set_ylabel(\"SNR\",fontsize=16)\n",
    "ax.legend(loc=5,fontsize=12)"
   ]
  },
  {
   "cell_type": "markdown",
   "id": "0715e6b3-6629-4a79-a07e-2a125b234418",
   "metadata": {},
   "source": [
    "To obtain the total magnitude of the faint star we compute:\n",
    "\n",
    "\\begin{equation}\n",
    "    \\Delta mag_B = \\xi_1 - \\xi_2 \\; ,\n",
    "\\end{equation}\n",
    "\n",
    "where $\\xi_1$ is the magnitude of the bright star in the radius where the faint star has its maximum value of SNR and $\\xi_2$ is the total magnitude of the bright star. \n",
    "\n",
    "\n",
    "    "
   ]
  },
  {
   "cell_type": "code",
   "execution_count": 82,
   "id": "5f3512db-8dee-4585-9841-76cfe9206b25",
   "metadata": {},
   "outputs": [
    {
     "name": "stdout",
     "output_type": "stream",
     "text": [
      "Max SNR of the faint star:  [98.24377832]\n",
      "Radius of the aperture where the sNR of the faint star is max:  [2.]\n",
      "Magnitude of the bright star for this radius:  [11.]\n"
     ]
    }
   ],
   "source": [
    "#indice where the faint star has its max SNR\n",
    "kk, = np.where(weak_star_SNR == weak_star_SNR.max())\n",
    "print(\"Max SNR of the faint star: \", weak_star_SNR[kk])\n",
    "print(\"Radius of the aperture where the SNR of the faint star is max: \", weak_star[kk,0])\n",
    "print(\"Magnitude of the bright star for this radius: \", bright_star[kk,1])\n"
   ]
  },
  {
   "cell_type": "code",
   "execution_count": 88,
   "id": "7d9ffa30-6b21-4d26-9866-296fa88b62a3",
   "metadata": {},
   "outputs": [
    {
     "name": "stdout",
     "output_type": "stream",
     "text": [
      "Deltamag_b =  [0.6]\n"
     ]
    }
   ],
   "source": [
    "delta_magb = bright_star[kk,1] - bright_star_magtotal[1]\n",
    "print(r\"Deltamag_b = \", delta_magb)"
   ]
  },
  {
   "cell_type": "markdown",
   "id": "c7b9f94c-f529-40af-bfb9-d7136fbb1a7a",
   "metadata": {},
   "source": [
    "In sequence, we compute:\n",
    "\n",
    "\\begin{equation}\n",
    "    m_T = m_{ws} - \\Delta mag_B \\; ,\n",
    "\\end{equation}\n",
    "\n",
    "where $m_{ws}$ is the magnitude of the faint star in the radius where its SNR has its maximum value.\n",
    "\n"
   ]
  },
  {
   "cell_type": "code",
   "execution_count": 101,
   "id": "3df426f2-7ba7-4142-a304-34bb679f8749",
   "metadata": {},
   "outputs": [
    {
     "name": "stdout",
     "output_type": "stream",
     "text": [
      "Total magnitude of the faint star:  [14.49]\n"
     ]
    }
   ],
   "source": [
    "#total magnitude of the faint star\n",
    "weak_star_magtotal = weak_star[kk,1] - delta_magb\n",
    "print(\"Total magnitude of the faint star: \", weak_star_magtotal)"
   ]
  },
  {
   "cell_type": "code",
   "execution_count": null,
   "id": "62cd8456-2f7e-4a82-b8a9-84b8ba419817",
   "metadata": {},
   "outputs": [],
   "source": []
  }
 ],
 "metadata": {
  "kernelspec": {
   "display_name": "Python 3 (ipykernel)",
   "language": "python",
   "name": "python3"
  },
  "language_info": {
   "codemirror_mode": {
    "name": "ipython",
    "version": 3
   },
   "file_extension": ".py",
   "mimetype": "text/x-python",
   "name": "python",
   "nbconvert_exporter": "python",
   "pygments_lexer": "ipython3",
   "version": "3.9.18"
  }
 },
 "nbformat": 4,
 "nbformat_minor": 5
}
